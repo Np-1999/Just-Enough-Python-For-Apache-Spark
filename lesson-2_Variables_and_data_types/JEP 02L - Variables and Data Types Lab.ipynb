{
 "cells": [
  {
   "cell_type": "markdown",
   "metadata": {
    "application/vnd.databricks.v1+cell": {
     "inputWidgets": {},
     "nuid": "6945f6fd-fc2f-4d59-8adc-ff162eafa231",
     "showTitle": false,
     "title": ""
    }
   },
   "source": [
    "-sandbox\n",
    "\n",
    "<div style=\"text-align: center; line-height: 0; padding-top: 9px;\">\n",
    "  <img src=\"https://databricks.com/wp-content/uploads/2018/03/db-academy-rgb-1200px.png\" alt=\"Databricks Learning\" style=\"width: 600px\">\n",
    "</div>"
   ]
  },
  {
   "cell_type": "markdown",
   "metadata": {
    "application/vnd.databricks.v1+cell": {
     "inputWidgets": {},
     "nuid": "9cc19a0d-3b70-41b0-9633-91365535ffb5",
     "showTitle": false,
     "title": ""
    }
   },
   "source": [
    "## Variables and Data Types Lab\n",
    "\n",
    "Let's convert EUR to USD and prints the results.\n",
    "\n",
    "To aid you in this, we have identified the cells you need to update with the **TODO** comment and provided a **FILL_IN** place-holder for your own code where appropriate."
   ]
  },
  {
   "cell_type": "markdown",
   "metadata": {
    "application/vnd.databricks.v1+cell": {
     "inputWidgets": {},
     "nuid": "e1318c94-5538-4183-a0e3-1102b6485e27",
     "showTitle": false,
     "title": ""
    }
   },
   "source": [
    "The current exchange rate as of 14 August 2020 is **1 EUR** to **1.18 USD**.\n",
    "0. Create a variable called **`conversion_rate`** and intialize it to the value of **`1.18`**.\n",
    "\n",
    "This way, if the rate ever changes, we would only need to modify this single line of code and have everything else still work properly!"
   ]
  },
  {
   "cell_type": "code",
   "execution_count": 2,
   "metadata": {
    "application/vnd.databricks.v1+cell": {
     "inputWidgets": {},
     "nuid": "d868c3e9-eb35-4685-a43e-4c034f490559",
     "showTitle": false,
     "title": ""
    }
   },
   "outputs": [
    {
     "name": "stdout",
     "output_type": "stream",
     "text": [
      "1.18\n"
     ]
    }
   ],
   "source": [
    "# TODO\n",
    "conversion_rate = 1.18 # Create the variable conversion_rate and assign it the value of 1.18\n",
    "print(conversion_rate)"
   ]
  },
  {
   "cell_type": "markdown",
   "metadata": {
    "application/vnd.databricks.v1+cell": {
     "inputWidgets": {},
     "nuid": "e6640625-44a9-42ec-b655-42ed2249a881",
     "showTitle": false,
     "title": ""
    }
   },
   "source": [
    "Write an assertion that verifies **`conversion_rate`** is of type **`float`**."
   ]
  },
  {
   "cell_type": "code",
   "execution_count": 0,
   "metadata": {
    "application/vnd.databricks.v1+cell": {
     "inputWidgets": {},
     "nuid": "27f053c7-1f60-40cd-af8b-ea6b7894b0a3",
     "showTitle": false,
     "title": ""
    }
   },
   "outputs": [
    {
     "data": {
      "text/html": [
       "<style scoped>\n",
       "  .ansiout {\n",
       "    display: block;\n",
       "    unicode-bidi: embed;\n",
       "    white-space: pre-wrap;\n",
       "    word-wrap: break-word;\n",
       "    word-break: break-all;\n",
       "    font-family: \"Source Code Pro\", \"Menlo\", monospace;;\n",
       "    font-size: 13px;\n",
       "    color: #555;\n",
       "    margin-left: 4px;\n",
       "    line-height: 19px;\n",
       "  }\n",
       "</style>\n",
       "<div class=\"ansiout\"></div>"
      ]
     },
     "metadata": {
      "application/vnd.databricks.v1+output": {
       "addedWidgets": {},
       "arguments": {},
       "data": "<div class=\"ansiout\"></div>",
       "datasetInfos": [],
       "metadata": {},
       "removedWidgets": [],
       "type": "html"
      }
     },
     "output_type": "display_data"
    }
   ],
   "source": [
    "# TODO\n",
    "# Assert that your variable is of the correct type\n",
    "assert type(conversion_rate) == float"
   ]
  },
  {
   "cell_type": "markdown",
   "metadata": {
    "application/vnd.databricks.v1+cell": {
     "inputWidgets": {},
     "nuid": "091f46eb-2365-486a-be83-76e83d4340d9",
     "showTitle": false,
     "title": ""
    }
   },
   "source": [
    "Given that we have 567 EUR, compute what the corresponding amount should be in USD.\n",
    "0. Create the variable **`euro_amount`** and assign it the value **`567`**.\n",
    "0. Assign the result of the computation to the variable **`usd_amount`**.\n",
    "\n",
    "Make sure you to use the variable **`conversion_rate`** in your computation and not the hard coded value **`1.18`**."
   ]
  },
  {
   "cell_type": "code",
   "execution_count": 0,
   "metadata": {
    "application/vnd.databricks.v1+cell": {
     "inputWidgets": {},
     "nuid": "c44c4ea8-e8ae-44a2-b83c-ca7c1ef586ec",
     "showTitle": false,
     "title": ""
    }
   },
   "outputs": [
    {
     "data": {
      "text/html": [
       "<style scoped>\n",
       "  .ansiout {\n",
       "    display: block;\n",
       "    unicode-bidi: embed;\n",
       "    white-space: pre-wrap;\n",
       "    word-wrap: break-word;\n",
       "    word-break: break-all;\n",
       "    font-family: \"Source Code Pro\", \"Menlo\", monospace;;\n",
       "    font-size: 13px;\n",
       "    color: #555;\n",
       "    margin-left: 4px;\n",
       "    line-height: 19px;\n",
       "  }\n",
       "</style>\n",
       "<div class=\"ansiout\"></div>"
      ]
     },
     "metadata": {
      "application/vnd.databricks.v1+output": {
       "addedWidgets": {},
       "arguments": {},
       "data": "<div class=\"ansiout\"></div>",
       "datasetInfos": [],
       "metadata": {},
       "removedWidgets": [],
       "type": "html"
      }
     },
     "output_type": "display_data"
    }
   ],
   "source": [
    "# TODO\n",
    "euro_amount = 567 # Create the variable euro_amount and assign it the value of 567\n",
    "usd_amount = euro_amount * conversion_rate # Assign the result of the computation to usd_amount\n",
    "\n",
    "# Test your solution\n",
    "assert usd_amount == 669.06, \"Incorrect amount.\""
   ]
  },
  {
   "cell_type": "markdown",
   "metadata": {
    "application/vnd.databricks.v1+cell": {
     "inputWidgets": {},
     "nuid": "bacfa38d-91c7-4bf4-8f56-359320b3fd0e",
     "showTitle": false,
     "title": ""
    }
   },
   "source": [
    "Using **`euro_amount`** and **`usd_amount`**, print your results.\n",
    "0. Create a new f-string using this template: **`{} Euros is equal to ${} USD`**\n",
    "1. Print that new string to the console\n",
    "\n",
    "Hint: This can be comleted in one or two lines of code"
   ]
  },
  {
   "cell_type": "code",
   "execution_count": 0,
   "metadata": {
    "application/vnd.databricks.v1+cell": {
     "inputWidgets": {},
     "nuid": "a99185e0-9068-4885-b297-6b0e5c1790fc",
     "showTitle": false,
     "title": ""
    }
   },
   "outputs": [
    {
     "data": {
      "text/html": [
       "<style scoped>\n",
       "  .ansiout {\n",
       "    display: block;\n",
       "    unicode-bidi: embed;\n",
       "    white-space: pre-wrap;\n",
       "    word-wrap: break-word;\n",
       "    word-break: break-all;\n",
       "    font-family: \"Source Code Pro\", \"Menlo\", monospace;;\n",
       "    font-size: 13px;\n",
       "    color: #555;\n",
       "    margin-left: 4px;\n",
       "    line-height: 19px;\n",
       "  }\n",
       "</style>\n",
       "<div class=\"ansiout\">567 Euros is equal to 669.06 USD\n",
       "</div>"
      ]
     },
     "metadata": {
      "application/vnd.databricks.v1+output": {
       "addedWidgets": {},
       "arguments": {},
       "data": "<div class=\"ansiout\">567 Euros is equal to 669.06 USD\n</div>",
       "datasetInfos": [],
       "metadata": {},
       "removedWidgets": [],
       "type": "html"
      }
     },
     "output_type": "display_data"
    }
   ],
   "source": [
    "# TODO\n",
    "print(f\"{euro_amount} Euros is equal to {usd_amount} USD\")"
   ]
  },
  {
   "cell_type": "markdown",
   "metadata": {
    "application/vnd.databricks.v1+cell": {
     "inputWidgets": {},
     "nuid": "8f7cb649-b77d-4ed6-a655-a9b2eca13663",
     "showTitle": false,
     "title": ""
    }
   },
   "source": [
    "-sandbox\n",
    "&copy; 2020 Databricks, Inc. All rights reserved.<br/>\n",
    "Apache, Apache Spark, Spark and the Spark logo are trademarks of the <a href=\"http://www.apache.org/\">Apache Software Foundation</a>.<br/>\n",
    "<br/>\n",
    "<a href=\"https://databricks.com/privacy-policy\">Privacy Policy</a> | <a href=\"https://databricks.com/terms-of-use\">Terms of Use</a> | <a href=\"http://help.databricks.com/\">Support</a>"
   ]
  }
 ],
 "metadata": {
  "application/vnd.databricks.v1+notebook": {
   "dashboards": [],
   "language": "python",
   "notebookMetadata": {
    "pythonIndentUnit": 2
   },
   "notebookName": "JEP 02L - Variables and Data Types Lab",
   "notebookOrigID": 1790332465293005,
   "widgets": {}
  },
  "kernelspec": {
   "display_name": "Python 3 (ipykernel)",
   "language": "python",
   "name": "python3"
  },
  "language_info": {
   "codemirror_mode": {
    "name": "ipython",
    "version": 3
   },
   "file_extension": ".py",
   "mimetype": "text/x-python",
   "name": "python",
   "nbconvert_exporter": "python",
   "pygments_lexer": "ipython3",
   "version": "3.9.2"
  }
 },
 "nbformat": 4,
 "nbformat_minor": 1
}
