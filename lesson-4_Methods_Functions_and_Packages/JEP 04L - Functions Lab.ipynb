{
 "cells": [
  {
   "cell_type": "markdown",
   "metadata": {
    "application/vnd.databricks.v1+cell": {
     "inputWidgets": {},
     "nuid": "ac6ea7ce-9b47-4f74-8c5a-fee9478ff112",
     "showTitle": false,
     "title": ""
    }
   },
   "source": [
    "-sandbox\n",
    "\n",
    "<div style=\"text-align: center; line-height: 0; padding-top: 9px;\">\n",
    "  <img src=\"https://databricks.com/wp-content/uploads/2018/03/db-academy-rgb-1200px.png\" alt=\"Databricks Learning\" style=\"width: 600px\">\n",
    "</div>"
   ]
  },
  {
   "cell_type": "markdown",
   "metadata": {
    "application/vnd.databricks.v1+cell": {
     "inputWidgets": {},
     "nuid": "f4b14f03-3fe7-4456-807c-916b0a8fcb5b",
     "showTitle": false,
     "title": ""
    }
   },
   "source": [
    "# Functions Lab\n",
    "\n",
    "Building on the previous lab, the FizzBuzz Test, we are going to refactor that code into a function.\n",
    "0. Declare a fucntion.\n",
    "  0. The name of the function should be **`fizzBuzz`**\n",
    "  0. The function has one parameter, presumably an integer (**`int`**).\n",
    "  0. The function should return a string (**`str`**)\n",
    "0. Add a guard, or pre-condition, that asserts that the one specified parameter is of type **`int`**.\n",
    "0. Using your solution from the previous lab (one example solution is included below):\n",
    "  0. Discard the for loop.\n",
    "  0. Alter the print statements so that they return the corresponding value instead (e.g. return \"Fizz\" instead of printing \"Fizz\")\n",
    "  0. Ensure that the return value is always a string (**`str`**).</br>\n",
    "  Hint: See the built-in functions to convert numbers to string or employ an f-string.\n",
    "\n",
    "Bonus: Update your function to use type hints."
   ]
  },
  {
   "cell_type": "markdown",
   "metadata": {
    "application/vnd.databricks.v1+cell": {
     "inputWidgets": {},
     "nuid": "33ceb843-043b-44ce-803f-3f39026787c0",
     "showTitle": false,
     "title": ""
    }
   },
   "source": [
    "To help you get started, we have included one possible solution to the Fizz Buzz Test here:"
   ]
  },
  {
   "cell_type": "code",
   "execution_count": 0,
   "metadata": {
    "application/vnd.databricks.v1+cell": {
     "inputWidgets": {},
     "nuid": "5185e743-5fce-4841-a0e3-0457a32692c2",
     "showTitle": false,
     "title": ""
    }
   },
   "outputs": [],
   "source": [
    "for num in range(1, 101):\n",
    "  if (num % 5 == 0) and (num % 3 == 0):\n",
    "    print(\"FizzBuzz\")\n",
    "  elif num % 5 == 0:\n",
    "    print(\"Buzz\")\n",
    "  elif num % 3 == 0:\n",
    "    print(\"Fizz\")\n",
    "  else:\n",
    "    print(num)"
   ]
  },
  {
   "cell_type": "code",
   "execution_count": 14,
   "metadata": {
    "application/vnd.databricks.v1+cell": {
     "inputWidgets": {},
     "nuid": "a1bd6b85-0a7c-4c10-a2ba-6b8721d46c41",
     "showTitle": false,
     "title": ""
    }
   },
   "outputs": [],
   "source": [
    "# TODO\n",
    "def fizzBuzz(num: int):\n",
    "  assert type(num) == int, f'Expected type of num is int, instead received {type(num)}'\n",
    "  if (num % 5 == 0) and (num % 3 == 0):\n",
    "        return \"FizzBuzz\"\n",
    "  elif num % 5 == 0:\n",
    "        return \"Buzz\"\n",
    "  elif num % 3 == 0:\n",
    "        return \"Fizz\"\n",
    "  else:\n",
    "        return f'{num}'"
   ]
  },
  {
   "cell_type": "markdown",
   "metadata": {
    "application/vnd.databricks.v1+cell": {
     "inputWidgets": {},
     "nuid": "895779c6-3bcb-420f-97d9-6c14f4dfaaac",
     "showTitle": false,
     "title": ""
    }
   },
   "source": [
    "Use the code below to test your function."
   ]
  },
  {
   "cell_type": "code",
   "execution_count": 15,
   "metadata": {
    "application/vnd.databricks.v1+cell": {
     "inputWidgets": {},
     "nuid": "6f8fb3c8-6ff3-43e5-a6a7-354553bda155",
     "showTitle": false,
     "title": ""
    }
   },
   "outputs": [],
   "source": [
    "expected = \"Fizz\"\n",
    "result = fizzBuzz(3)\n",
    "assert type(result) == str, f\"Expected actual to be of type str, but found {type(result)}.\"\n",
    "assert result == expected, f\"\"\"Expected \"{expected}\", but found \"{result}\".\"\"\"\n",
    "\n",
    "expected = \"Buzz\"\n",
    "result = fizzBuzz(5)\n",
    "assert type(result) == str, f\"Expected actual to be of type str, but found {type(actresultual)}.\"\n",
    "assert result == expected, f\"\"\"Expected \"{expected}\", but found \"{result}\".\"\"\"\n",
    "\n",
    "expected = \"FizzBuzz\"\n",
    "result = fizzBuzz(15)\n",
    "assert type(result) == str, f\"Expected actual to be of type str, but found {type(result)}.\"\n",
    "assert result == expected, f\"\"\"Expected \"{expected}\", but found \"{result}\".\"\"\"\n",
    "\n",
    "expected = \"7\"\n",
    "result = fizzBuzz(7)\n",
    "assert type(result) == str, f\"Expected actual to be of type str, but found {type(result)}.\"\n",
    "assert result == expected, f\"\"\"Expected \"{expected}\", but found \"{result}\".\"\"\""
   ]
  },
  {
   "cell_type": "markdown",
   "metadata": {
    "application/vnd.databricks.v1+cell": {
     "inputWidgets": {},
     "nuid": "ce087f72-5757-4c53-accf-9a3db11b76b2",
     "showTitle": false,
     "title": ""
    }
   },
   "source": [
    "Using the asserts in the previous command as a template, create a test function that calls **`fizzBuzz()`** for the following sequence of numbers: 0, 1, 2, 3, 5, and 15\n",
    "0. Implement the method **`testFizzBuzz()`**\n",
    "0. Iterate over the list **`test_numbers`** and **`expectations`**</br>\n",
    "Hint: Without introducing any new constructs, you can employ a **`range`**\n",
    "0. Call *z*`fizzBuzz()`** with the specified value\n",
    "0. Assert that the result is of type **`str`**, as seen above\n",
    "0. Assert that the result matches the expected value, as seen above"
   ]
  },
  {
   "cell_type": "code",
   "execution_count": 17,
   "metadata": {
    "application/vnd.databricks.v1+cell": {
     "inputWidgets": {},
     "nuid": "3793122a-b239-4d08-9c38-460ca164a8d7",
     "showTitle": false,
     "title": ""
    }
   },
   "outputs": [
    {
     "name": "stdout",
     "output_type": "stream",
     "text": [
      "Test 0 passed\n",
      "Test 1 passed\n",
      "Test 2 passed\n",
      "Test 3 passed\n",
      "Test 4 passed\n",
      "Test 5 passed\n"
     ]
    }
   ],
   "source": [
    "#TODO\n",
    "def testFizzBuzz(num: int, expected: str):  \n",
    "  result = fizzBuzz(num)         \n",
    "  assert type(result) == str, f'Expected result value to be str and received {type(result)}'\n",
    "  assert result == expected,  f'Output mismatched'          \n",
    "\n",
    "test_numbers = [0, 1, 2, 3, 5, 15]\n",
    "expectations = [\"FizzBuzz\", \"1\", \"2\", \"Fizz\", \"Buzz\", \"FizzBuzz\"]\n",
    "\n",
    "for i in range(0,6):\n",
    "  num = test_numbers[i]\n",
    "  expected = expectations[i]\n",
    "  testFizzBuzz(num, expected)\n",
    "  print(f'Test {i} passed')"
   ]
  },
  {
   "cell_type": "markdown",
   "metadata": {
    "application/vnd.databricks.v1+cell": {
     "inputWidgets": {},
     "nuid": "e52a4519-24f7-4252-bc4c-002b446ffc15",
     "showTitle": false,
     "title": ""
    }
   },
   "source": [
    "-sandbox\n",
    "&copy; 2020 Databricks, Inc. All rights reserved.<br/>\n",
    "Apache, Apache Spark, Spark and the Spark logo are trademarks of the <a href=\"http://www.apache.org/\">Apache Software Foundation</a>.<br/>\n",
    "<br/>\n",
    "<a href=\"https://databricks.com/privacy-policy\">Privacy Policy</a> | <a href=\"https://databricks.com/terms-of-use\">Terms of Use</a> | <a href=\"http://help.databricks.com/\">Support</a>"
   ]
  }
 ],
 "metadata": {
  "application/vnd.databricks.v1+notebook": {
   "dashboards": [],
   "language": "python",
   "notebookMetadata": {
    "pythonIndentUnit": 2
   },
   "notebookName": "JEP 04L - Functions Lab",
   "notebookOrigID": 1101933276116411,
   "widgets": {}
  },
  "kernelspec": {
   "display_name": "Python 3 (ipykernel)",
   "language": "python",
   "name": "python3"
  },
  "language_info": {
   "codemirror_mode": {
    "name": "ipython",
    "version": 3
   },
   "file_extension": ".py",
   "mimetype": "text/x-python",
   "name": "python",
   "nbconvert_exporter": "python",
   "pygments_lexer": "ipython3",
   "version": "3.9.2"
  }
 },
 "nbformat": 4,
 "nbformat_minor": 1
}
